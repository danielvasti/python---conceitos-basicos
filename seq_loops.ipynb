{
 "cells": [
  {
   "cell_type": "code",
   "execution_count": null,
   "metadata": {},
   "outputs": [],
   "source": [
    "clientes = [('Ana' , 'xxx', 'xxx@email.com'), \n",
    "            ('John', 'yyy', 'yyy@email.com')]\n",
    "\n",
    "for cliente in clientes:\n",
    "    nome = cliente[0]\n",
    "    cpf = cliente[1]\n",
    "    email = cliente[2]\n",
    "    print(f'Cliente: {nome}\\nCPF: {cpf}\\nEmail: {email}\\n')\n",
    "\n",
    "print ('ACABOU')"
   ]
  },
  {
   "cell_type": "code",
   "execution_count": 1,
   "metadata": {},
   "outputs": [
    {
     "name": "stdout",
     "output_type": "stream",
     "text": [
      "-5\n",
      "O resultado é -0.2\n",
      "-4\n",
      "O resultado é -0.25\n",
      "-3\n",
      "O resultado é -0.3333333333333333\n",
      "-2\n",
      "O resultado é -0.5\n",
      "-1\n",
      "O resultado é -1.0\n",
      "0\n",
      "1\n",
      "O resultado é 1.0\n",
      "2\n",
      "O resultado é 0.5\n",
      "3\n",
      "O resultado é 0.3333333333333333\n",
      "4\n",
      "O resultado é 0.25\n",
      "5\n",
      "O resultado é 0.2\n",
      "O loop acabou\n"
     ]
    }
   ],
   "source": [
    "for n in range(-5, 6):\n",
    "    print(n)\n",
    "    if n == 0:\n",
    "        continue\n",
    "    resultado = 1 / n\n",
    "    print(f'O resultado é {resultado}')\n",
    "\n",
    "print('O loop acabou')"
   ]
  },
  {
   "cell_type": "code",
   "execution_count": null,
   "metadata": {},
   "outputs": [
    {
     "name": "stdout",
     "output_type": "stream",
     "text": [
      "Opção selecionada: 2\n",
      "Opção inválida!\n",
      "Opção inválida!\n",
      "Opção inválida!\n",
      "Opção inválida!\n",
      "Opção selecionada: 1\n",
      "Programa finalizada\n"
     ]
    }
   ],
   "source": [
    "while True:\n",
    "    opt = input('Escolha uma opção (1,2) | q para sair')\n",
    "    if opt == 'q':\n",
    "        break\n",
    "    elif opt not in ('1','2'):\n",
    "        print('Opção inválida!')\n",
    "        continue\n",
    "    else:\n",
    "        print(f'Opção selecionada: {opt}')\n",
    "\n",
    "print('Programa finalizada')"
   ]
  },
  {
   "cell_type": "code",
   "execution_count": 2,
   "metadata": {},
   "outputs": [
    {
     "name": "stdout",
     "output_type": "stream",
     "text": [
      "A soma dos valores [10, 30, 40, 66, 2] é 148\n",
      "A média é: 29.6\n"
     ]
    }
   ],
   "source": [
    "# calcular soma e media de uma sequencia de numeros\n",
    "\n",
    "valores = [10, 30, 40, 66, 2]\n",
    "\n",
    "soma = 0\n",
    "for valor in valores:\n",
    "    soma += valor\n",
    "\n",
    "print(f'A soma dos valores {valores} é {soma}')\n",
    "media = soma / len(valores)\n",
    "print(f'A média é: {media}')\n",
    "\n"
   ]
  },
  {
   "cell_type": "code",
   "execution_count": 3,
   "metadata": {},
   "outputs": [
    {
     "name": "stdout",
     "output_type": "stream",
     "text": [
      "O valor maximo dos valores é: 66\n"
     ]
    }
   ],
   "source": [
    "#calcular o maior valor da sequencia\n",
    "\n",
    "valores = [10, 30, 40, 66, 2]\n",
    "\n",
    "maximo = valores[0]\n",
    "for valor in valores:\n",
    "    if valor > maximo:\n",
    "        maximo = valor\n",
    "\n",
    "print(f'O valor maximo dos valores é: {maximo}')"
   ]
  },
  {
   "cell_type": "code",
   "execution_count": 5,
   "metadata": {},
   "outputs": [
    {
     "name": "stdout",
     "output_type": "stream",
     "text": [
      "bolas\n",
      "merda\n",
      "xixizento\n",
      "python\n"
     ]
    }
   ],
   "source": [
    "#printar palavras com pelo menos 5 caracteres\n",
    "\n",
    "palavras = ['bolas', 'merda', 'xixizento', 'python', 'prog','oi']\n",
    "\n",
    "for palavra in palavras:\n",
    "    if len(palavra) >= 5:\n",
    "        print(palavra)"
   ]
  },
  {
   "cell_type": "code",
   "execution_count": 8,
   "metadata": {},
   "outputs": [
    {
     "name": "stdout",
     "output_type": "stream",
     "text": [
      "xyx\n",
      "pokemon\n"
     ]
    }
   ],
   "source": [
    "lista1 = ['abc', 123, 'xyx', 447, False, 'pokemon']\n",
    "lista2 = ['def', 321, 'xyx', 717, True, 'pokemon']\n",
    "\n",
    "for valor in lista1:\n",
    "    if valor in lista2:\n",
    "        print(valor)"
   ]
  },
  {
   "cell_type": "code",
   "execution_count": 10,
   "metadata": {},
   "outputs": [
    {
     "name": "stdout",
     "output_type": "stream",
     "text": [
      "As listas possuem elementos em comum\n"
     ]
    }
   ],
   "source": [
    "lista1 = ['abc', 123, 'xyx', 447, False, 'pokemon']\n",
    "lista2 = ['def', 321, 'xyx', 717, True, 'pokemon']\n",
    "\n",
    "elemento_em_comum = False\n",
    "\n",
    "for valor in lista1:\n",
    "    if elemento_em_comum:\n",
    "        break\n",
    "    if valor in lista2:\n",
    "        elemento_em_comum = True\n",
    "        break\n",
    "\n",
    "if elemento_em_comum:\n",
    "    print('As listas possuem elementos em comum')\n",
    "else:\n",
    "    print('As listas não possuem elementos em comum')"
   ]
  },
  {
   "cell_type": "code",
   "execution_count": null,
   "metadata": {},
   "outputs": [],
   "source": []
  }
 ],
 "metadata": {
  "kernelspec": {
   "display_name": "Python 3",
   "language": "python",
   "name": "python3"
  },
  "language_info": {
   "codemirror_mode": {
    "name": "ipython",
    "version": 3
   },
   "file_extension": ".py",
   "mimetype": "text/x-python",
   "name": "python",
   "nbconvert_exporter": "python",
   "pygments_lexer": "ipython3",
   "version": "3.10.7"
  }
 },
 "nbformat": 4,
 "nbformat_minor": 2
}
