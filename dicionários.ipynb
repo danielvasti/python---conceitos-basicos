{
 "cells": [
  {
   "cell_type": "code",
   "execution_count": 1,
   "metadata": {},
   "outputs": [],
   "source": [
    "capitais = {\n",
    "        'Brasil' : 'Brasilia',\n",
    "        'França': 'Paris', \n",
    "        'Japão': 'Toquio'}"
   ]
  },
  {
   "cell_type": "code",
   "execution_count": 2,
   "metadata": {},
   "outputs": [
    {
     "name": "stdout",
     "output_type": "stream",
     "text": [
      "10 tem o valor de:  abc\n",
      "CHAVE tem o valor de:  5\n",
      "3.15 tem o valor de:  True\n"
     ]
    }
   ],
   "source": [
    "d = dict()\n",
    "\n",
    "d[10] = 'abc'\n",
    "d['CHAVE'] = 5\n",
    "d[3.15] = True\n",
    "\n",
    "for k in d:\n",
    "    v = d[k]\n",
    "    print(k, 'tem o valor de: ', v)"
   ]
  }
 ],
 "metadata": {
  "kernelspec": {
   "display_name": "Python 3",
   "language": "python",
   "name": "python3"
  },
  "language_info": {
   "codemirror_mode": {
    "name": "ipython",
    "version": 3
   },
   "file_extension": ".py",
   "mimetype": "text/x-python",
   "name": "python",
   "nbconvert_exporter": "python",
   "pygments_lexer": "ipython3",
   "version": "3.10.7"
  }
 },
 "nbformat": 4,
 "nbformat_minor": 2
}
